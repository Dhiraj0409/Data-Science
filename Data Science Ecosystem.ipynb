{
 "cells": [
  {
   "cell_type": "markdown",
   "id": "67e72669",
   "metadata": {},
   "source": [
    "# Data Science Tools and Ecosystem"
   ]
  },
  {
   "cell_type": "markdown",
   "id": "6b7b72e0",
   "metadata": {},
   "source": [
    "In this notebook, Data Science Tools and Ecosystem are summarized"
   ]
  },
  {
   "cell_type": "markdown",
   "id": "d1b91eb6",
   "metadata": {},
   "source": [
    "Some of the popular languages that Data Scientists use are:\n",
    "\n",
    "1. Python\n",
    "2. R\n",
    "3. SQL\n",
    "4. C++\n",
    "5. Java etc...;"
   ]
  },
  {
   "cell_type": "markdown",
   "id": "bd9ce04f",
   "metadata": {},
   "source": [
    "Some of the commonly used libraries used by Data Scientists include:\n",
    "\n",
    "1. Tensorflow\n",
    "2. NumPy\n",
    "3. SciPy\n",
    "4. Pandas\n",
    "5. Matplotlib\n",
    "6. Keras\n",
    "7. SciKIt-Learn\n",
    "8. PyTorch. ect..;"
   ]
  },
  {
   "cell_type": "markdown",
   "id": "2711ffa3",
   "metadata": {},
   "source": [
    "|Data Science Tools|\n",
    "|---|\n",
    "|SAS|\n",
    "|Apache Hadoop|\n",
    "|TensorFlow|"
   ]
  },
  {
   "cell_type": "markdown",
   "id": "f764a872",
   "metadata": {},
   "source": [
    "### Below are a few example of evaluating arithmetic expression in Python."
   ]
  },
  {
   "cell_type": "code",
   "execution_count": 3,
   "id": "c6a04abf",
   "metadata": {},
   "outputs": [
    {
     "data": {
      "text/plain": [
       "22"
      ]
     },
     "execution_count": 3,
     "metadata": {},
     "output_type": "execute_result"
    }
   ],
   "source": [
    "#this is a common arithmetic example to multiply and then add integers\n",
    "(3*4)+10"
   ]
  },
  {
   "cell_type": "code",
   "execution_count": 6,
   "id": "33b54d7c",
   "metadata": {},
   "outputs": [
    {
     "data": {
      "text/plain": [
       "6.666666666666667"
      ]
     },
     "execution_count": 6,
     "metadata": {},
     "output_type": "execute_result"
    }
   ],
   "source": [
    "#This will convert 400 mintues to hours by dividing by 60\n",
    "400/60"
   ]
  },
  {
   "cell_type": "markdown",
   "id": "ed1c857a",
   "metadata": {},
   "source": [
    "#### Objective"
   ]
  },
  {
   "cell_type": "markdown",
   "id": "3c8687b4",
   "metadata": {},
   "source": [
    "- List popular languages for Data Science\n",
    "- List popular libraries for Data Science\n",
    "- List of Well known Data Science Tools\n",
    "- How to Provide comments in the cell"
   ]
  },
  {
   "cell_type": "markdown",
   "id": "c5e6551b",
   "metadata": {},
   "source": [
    "## Author\n",
    "Dhiraj Sharma"
   ]
  },
  {
   "cell_type": "code",
   "execution_count": null,
   "id": "a2388ab5",
   "metadata": {},
   "outputs": [],
   "source": []
  }
 ],
 "metadata": {
  "kernelspec": {
   "display_name": "Python 3 (ipykernel)",
   "language": "python",
   "name": "python3"
  },
  "language_info": {
   "codemirror_mode": {
    "name": "ipython",
    "version": 3
   },
   "file_extension": ".py",
   "mimetype": "text/x-python",
   "name": "python",
   "nbconvert_exporter": "python",
   "pygments_lexer": "ipython3",
   "version": "3.10.9"
  }
 },
 "nbformat": 4,
 "nbformat_minor": 5
}
